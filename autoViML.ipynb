{
 "cells": [
  {
   "cell_type": "code",
   "execution_count": 16,
   "metadata": {},
   "outputs": [
    {
     "ename": "ImportError",
     "evalue": "cannot import name 'plot_precision_recall_curve' from 'sklearn.metrics' (c:\\Users\\marin\\miniconda3\\envs\\automl\\lib\\site-packages\\sklearn\\metrics\\__init__.py)",
     "output_type": "error",
     "traceback": [
      "\u001b[1;31m---------------------------------------------------------------------------\u001b[0m",
      "\u001b[1;31mImportError\u001b[0m                               Traceback (most recent call last)",
      "Cell \u001b[1;32mIn[16], line 2\u001b[0m\n\u001b[0;32m      1\u001b[0m \u001b[39mimport\u001b[39;00m \u001b[39mscikitplot\u001b[39;00m \u001b[39mas\u001b[39;00m \u001b[39mskplt\u001b[39;00m\n\u001b[1;32m----> 2\u001b[0m \u001b[39mfrom\u001b[39;00m \u001b[39mautoviml\u001b[39;00m\u001b[39m.\u001b[39;00m\u001b[39mAuto_ViML\u001b[39;00m \u001b[39mimport\u001b[39;00m Auto_ViML\n\u001b[0;32m      3\u001b[0m \u001b[39mfrom\u001b[39;00m \u001b[39mutils\u001b[39;00m \u001b[39mimport\u001b[39;00m load\n\u001b[0;32m      5\u001b[0m blobs_data_train, blobs_data_test \u001b[39m=\u001b[39m load(\u001b[39m'\u001b[39m\u001b[39mblobs\u001b[39m\u001b[39m'\u001b[39m)\n",
      "File \u001b[1;32mc:\\Users\\marin\\miniconda3\\envs\\automl\\lib\\site-packages\\autoviml\\Auto_ViML.py:5018\u001b[0m\n\u001b[0;32m   5016\u001b[0m     ax\u001b[39m.\u001b[39mset_xlabel(\u001b[39m'\u001b[39m\u001b[39mPredicted label\u001b[39m\u001b[39m'\u001b[39m, fontsize \u001b[39m=\u001b[39m \u001b[39m13\u001b[39m)\n\u001b[0;32m   5017\u001b[0m \u001b[39m######################################################################################\u001b[39;00m\n\u001b[1;32m-> 5018\u001b[0m \u001b[39mfrom\u001b[39;00m \u001b[39msklearn\u001b[39;00m\u001b[39m.\u001b[39;00m\u001b[39mmetrics\u001b[39;00m \u001b[39mimport\u001b[39;00m plot_precision_recall_curve, plot_roc_curve\n\u001b[0;32m   5019\u001b[0m \u001b[39mfrom\u001b[39;00m \u001b[39msklearn\u001b[39;00m\u001b[39m.\u001b[39;00m\u001b[39mmetrics\u001b[39;00m \u001b[39mimport\u001b[39;00m classification_report\n\u001b[0;32m   5020\u001b[0m \u001b[39mimport\u001b[39;00m \u001b[39mmatplotlib\u001b[39;00m\u001b[39m.\u001b[39;00m\u001b[39mpyplot\u001b[39;00m \u001b[39mas\u001b[39;00m \u001b[39mplt\u001b[39;00m\n",
      "\u001b[1;31mImportError\u001b[0m: cannot import name 'plot_precision_recall_curve' from 'sklearn.metrics' (c:\\Users\\marin\\miniconda3\\envs\\automl\\lib\\site-packages\\sklearn\\metrics\\__init__.py)"
     ]
    }
   ],
   "source": [
    "import scikitplot as skplt\n",
    "from autoviml.Auto_ViML import Auto_ViML\n",
    "from utils import load\n",
    "\n",
    "blobs_data_train, blobs_data_test = load('blobs')\n",
    "model, features, trainm, testm = Auto_ViML(\n",
    "    blobs_data_train,\n",
    "    'label',\n",
    "    blobs_data_test,\n",
    "    hyper_param=\"GS\",\n",
    "    feature_reduction=True,\n",
    "    scoring_parameter=\"weighted-f1\",\n",
    "    KMeans_Featurizer=False,\n",
    "    Boosting_Flag=False,\n",
    "    Binning_Flag=False,\n",
    "    Add_Poly=False,\n",
    "    Stacking_Flag=False,\n",
    "    Imbalanced_Flag=False,\n",
    "    verbose=0,\n",
    ")\n",
    "\n",
    "\n",
    "\n"
   ]
  }
 ],
 "metadata": {
  "kernelspec": {
   "display_name": "automl",
   "language": "python",
   "name": "python3"
  },
  "language_info": {
   "codemirror_mode": {
    "name": "ipython",
    "version": 3
   },
   "file_extension": ".py",
   "mimetype": "text/x-python",
   "name": "python",
   "nbconvert_exporter": "python",
   "pygments_lexer": "ipython3",
   "version": "3.9.16"
  },
  "orig_nbformat": 4
 },
 "nbformat": 4,
 "nbformat_minor": 2
}
