{
 "cells": [
  {
   "cell_type": "code",
   "execution_count": null,
   "metadata": {},
   "outputs": [],
   "source": [
    "import autosklearn.classification\n",
    "\n",
    "# from utils import load\n",
    "# blobs_data_train, blobs_data_test = load('blobs')\n",
    "# blobs_predictor = \n",
    "# circles_data_train, circles_data_test = load('circles')\n",
    "# circles_predictor = \n",
    "# moons_data_train, moons_data_test = load('moons')\n",
    "# moons_predictor = \n",
    "# regression_data_train, regression_data_test = load('regression')\n",
    "# regression_predictor = "
   ]
  }
 ],
 "metadata": {
  "kernelspec": {
   "display_name": "conda-env",
   "language": "python",
   "name": "python3"
  },
  "language_info": {
   "name": "python",
   "version": "3.10.9"
  },
  "orig_nbformat": 4
 },
 "nbformat": 4,
 "nbformat_minor": 2
}
