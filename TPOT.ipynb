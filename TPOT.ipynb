{
 "cells": [
  {
   "cell_type": "code",
   "execution_count": null,
   "metadata": {},
   "outputs": [],
   "source": [
    "\n",
    "\n",
    "from utils import load\n",
    "blobs_data_train, blobs_data_test = load('blobs')\n",
    "blobs_predictor = \n",
    "circles_data_train, circles_data_test = load('circles')\n",
    "circles_predictor = \n",
    "moons_data_train, moons_data_test = load('moons')\n",
    "moons_predictor = \n",
    "regression_data_train, regression_data_test = load('regression')\n",
    "regression_predictor = "
   ]
  }
 ],
 "metadata": {
  "language_info": {
   "name": "python"
  },
  "orig_nbformat": 4
 },
 "nbformat": 4,
 "nbformat_minor": 2
}
