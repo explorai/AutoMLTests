{
 "cells": [
  {
   "cell_type": "code",
   "execution_count": 1,
   "metadata": {},
   "outputs": [],
   "source": [
    "from _collections_abc import MutableMapping\n",
    "import autokeras as ak\n",
    "from utils import load\n",
    "\n",
    "epochs_num = 10\n",
    "max_trials_num = 20"
   ]
  },
  {
   "cell_type": "code",
   "execution_count": 2,
   "metadata": {},
   "outputs": [
    {
     "name": "stdout",
     "output_type": "stream",
     "text": [
      "Trial 20 Complete [00h 00m 02s]\n",
      "val_accuracy: 0.3125\n",
      "\n",
      "Best val_accuracy So Far: 1.0\n",
      "Total elapsed time: 00h 00m 36s\n",
      "INFO:tensorflow:Oracle triggered exit\n",
      "Epoch 1/10\n",
      "3/3 [==============================] - 0s 3ms/step - loss: 9.7819 - accuracy: 0.5125\n",
      "Epoch 2/10\n",
      "3/3 [==============================] - 0s 3ms/step - loss: 4.6245 - accuracy: 0.5750\n",
      "Epoch 3/10\n",
      "3/3 [==============================] - 0s 2ms/step - loss: 0.7563 - accuracy: 0.7000\n",
      "Epoch 4/10\n",
      "3/3 [==============================] - 0s 3ms/step - loss: 0.2663 - accuracy: 0.8625\n",
      "Epoch 5/10\n",
      "3/3 [==============================] - 0s 2ms/step - loss: 0.2286 - accuracy: 0.9000\n",
      "Epoch 6/10\n",
      "3/3 [==============================] - 0s 3ms/step - loss: 0.4249 - accuracy: 0.9000\n",
      "Epoch 7/10\n",
      "3/3 [==============================] - 0s 3ms/step - loss: 0.7816 - accuracy: 0.8375\n",
      "Epoch 8/10\n",
      "3/3 [==============================] - 0s 2ms/step - loss: 0.4082 - accuracy: 0.9375\n",
      "Epoch 9/10\n",
      "3/3 [==============================] - 0s 3ms/step - loss: 0.4719 - accuracy: 0.8750\n",
      "Epoch 10/10\n",
      "3/3 [==============================] - 0s 2ms/step - loss: 0.5798 - accuracy: 0.8875\n",
      "INFO:tensorflow:Assets written to: .\\structured_data_classifier\\best_model\\assets\n"
     ]
    },
    {
     "data": {
      "text/plain": [
       "<keras.callbacks.History at 0x22e5bb1cd90>"
      ]
     },
     "execution_count": 2,
     "metadata": {},
     "output_type": "execute_result"
    }
   ],
   "source": [
    "blobs_predictor = ak.StructuredDataClassifier(max_trials=max_trials_num, overwrite=True)\n",
    "blobs_predictor.fit(\"datasets/blobs_train.csv\", 'label', epochs=epochs_num)"
   ]
  },
  {
   "cell_type": "code",
   "execution_count": 3,
   "metadata": {},
   "outputs": [
    {
     "name": "stdout",
     "output_type": "stream",
     "text": [
      "1/1 [==============================] - 0s 149ms/step - loss: 0.0044 - accuracy: 1.0000\n"
     ]
    },
    {
     "data": {
      "text/plain": [
       "[0.004447792656719685, 1.0]"
      ]
     },
     "execution_count": 3,
     "metadata": {},
     "output_type": "execute_result"
    }
   ],
   "source": [
    "blobs_predictor.evaluate(\"datasets/blobs_test.csv\", 'label')"
   ]
  },
  {
   "cell_type": "code",
   "execution_count": 4,
   "metadata": {},
   "outputs": [
    {
     "name": "stdout",
     "output_type": "stream",
     "text": [
      "Trial 20 Complete [00h 00m 01s]\n",
      "val_accuracy: 0.6875\n",
      "\n",
      "Best val_accuracy So Far: 0.75\n",
      "Total elapsed time: 00h 00m 28s\n",
      "INFO:tensorflow:Oracle triggered exit\n",
      "Epoch 1/10\n",
      "3/3 [==============================] - 0s 2ms/step - loss: 0.7219 - accuracy: 0.4375\n",
      "Epoch 2/10\n",
      "3/3 [==============================] - 0s 2ms/step - loss: 0.7153 - accuracy: 0.4625\n",
      "Epoch 3/10\n",
      "3/3 [==============================] - 0s 2ms/step - loss: 0.7096 - accuracy: 0.4750\n",
      "Epoch 4/10\n",
      "3/3 [==============================] - 0s 2ms/step - loss: 0.7046 - accuracy: 0.4750\n",
      "Epoch 5/10\n",
      "3/3 [==============================] - 0s 1ms/step - loss: 0.7002 - accuracy: 0.4875\n",
      "Epoch 6/10\n",
      "3/3 [==============================] - 0s 2ms/step - loss: 0.6962 - accuracy: 0.4750\n",
      "Epoch 7/10\n",
      "3/3 [==============================] - 0s 2ms/step - loss: 0.6925 - accuracy: 0.4625\n",
      "Epoch 8/10\n",
      "3/3 [==============================] - 0s 2ms/step - loss: 0.6893 - accuracy: 0.5000\n",
      "Epoch 9/10\n",
      "3/3 [==============================] - 0s 2ms/step - loss: 0.6866 - accuracy: 0.5375\n",
      "Epoch 10/10\n",
      "3/3 [==============================] - 0s 2ms/step - loss: 0.6843 - accuracy: 0.5125\n",
      "INFO:tensorflow:Assets written to: .\\structured_data_classifier\\best_model\\assets\n"
     ]
    },
    {
     "data": {
      "text/plain": [
       "<keras.callbacks.History at 0x22e5ee2d8e0>"
      ]
     },
     "execution_count": 4,
     "metadata": {},
     "output_type": "execute_result"
    }
   ],
   "source": [
    "circles_predictor = ak.StructuredDataClassifier(max_trials=max_trials_num, overwrite=True)\n",
    "circles_predictor.fit(\"datasets/circles_train.csv\", 'label', epochs=epochs_num)"
   ]
  },
  {
   "cell_type": "code",
   "execution_count": 5,
   "metadata": {},
   "outputs": [
    {
     "name": "stdout",
     "output_type": "stream",
     "text": [
      "1/1 [==============================] - 0s 114ms/step - loss: 0.7356 - accuracy: 0.2500\n"
     ]
    },
    {
     "data": {
      "text/plain": [
       "[0.7355905771255493, 0.25]"
      ]
     },
     "execution_count": 5,
     "metadata": {},
     "output_type": "execute_result"
    }
   ],
   "source": [
    "circles_predictor.evaluate(\"datasets/circles_test.csv\", 'label')"
   ]
  },
  {
   "cell_type": "code",
   "execution_count": 6,
   "metadata": {},
   "outputs": [
    {
     "name": "stdout",
     "output_type": "stream",
     "text": [
      "Trial 20 Complete [00h 00m 02s]\n",
      "val_accuracy: 0.9375\n",
      "\n",
      "Best val_accuracy So Far: 0.9375\n",
      "Total elapsed time: 00h 00m 33s\n",
      "INFO:tensorflow:Oracle triggered exit\n",
      "Epoch 1/10\n",
      "3/3 [==============================] - 1s 2ms/step - loss: 0.7600 - accuracy: 0.5250\n",
      "Epoch 2/10\n",
      "3/3 [==============================] - 0s 1ms/step - loss: 0.6598 - accuracy: 0.6000\n",
      "Epoch 3/10\n",
      "3/3 [==============================] - 0s 2ms/step - loss: 0.5796 - accuracy: 0.6250\n",
      "Epoch 4/10\n",
      "3/3 [==============================] - 0s 2ms/step - loss: 0.5154 - accuracy: 0.7250\n",
      "Epoch 5/10\n",
      "3/3 [==============================] - 0s 2ms/step - loss: 0.4649 - accuracy: 0.9125\n",
      "Epoch 6/10\n",
      "3/3 [==============================] - 0s 2ms/step - loss: 0.4247 - accuracy: 0.9125\n",
      "Epoch 7/10\n",
      "3/3 [==============================] - 0s 2ms/step - loss: 0.3938 - accuracy: 0.9125\n",
      "Epoch 8/10\n",
      "3/3 [==============================] - 0s 1ms/step - loss: 0.3698 - accuracy: 0.9125\n",
      "Epoch 9/10\n",
      "3/3 [==============================] - 0s 2ms/step - loss: 0.3519 - accuracy: 0.9000\n",
      "Epoch 10/10\n",
      "3/3 [==============================] - 0s 3ms/step - loss: 0.3372 - accuracy: 0.9000\n",
      "INFO:tensorflow:Assets written to: .\\structured_data_classifier\\best_model\\assets\n"
     ]
    },
    {
     "data": {
      "text/plain": [
       "<keras.callbacks.History at 0x22e600a8b50>"
      ]
     },
     "execution_count": 6,
     "metadata": {},
     "output_type": "execute_result"
    }
   ],
   "source": [
    "moons_predictor = ak.StructuredDataClassifier(max_trials=max_trials_num, overwrite=True)\n",
    "moons_predictor.fit(\"datasets/moons_train.csv\", 'label', epochs=epochs_num)"
   ]
  },
  {
   "cell_type": "code",
   "execution_count": 7,
   "metadata": {},
   "outputs": [
    {
     "name": "stdout",
     "output_type": "stream",
     "text": [
      "1/1 [==============================] - 0s 135ms/step - loss: 0.6063 - accuracy: 0.7500\n"
     ]
    },
    {
     "data": {
      "text/plain": [
       "[0.6062942743301392, 0.75]"
      ]
     },
     "execution_count": 7,
     "metadata": {},
     "output_type": "execute_result"
    }
   ],
   "source": [
    "moons_predictor.evaluate(\"datasets/moons_test.csv\", 'label')"
   ]
  },
  {
   "cell_type": "code",
   "execution_count": 8,
   "metadata": {},
   "outputs": [
    {
     "name": "stdout",
     "output_type": "stream",
     "text": [
      "Trial 20 Complete [00h 00m 01s]\n",
      "val_loss: 3706.959228515625\n",
      "\n",
      "Best val_loss So Far: 3484.09814453125\n",
      "Total elapsed time: 00h 00m 28s\n",
      "INFO:tensorflow:Oracle triggered exit\n",
      "Epoch 1/10\n",
      "3/3 [==============================] - 0s 2ms/step - loss: 9187.9160 - mean_squared_error: 9187.9160\n",
      "Epoch 2/10\n",
      "3/3 [==============================] - 0s 2ms/step - loss: 9033.2129 - mean_squared_error: 9033.2129\n",
      "Epoch 3/10\n",
      "3/3 [==============================] - 0s 2ms/step - loss: 8807.4043 - mean_squared_error: 8807.4043\n",
      "Epoch 4/10\n",
      "3/3 [==============================] - 0s 2ms/step - loss: 8369.2090 - mean_squared_error: 8369.2090\n",
      "Epoch 5/10\n",
      "3/3 [==============================] - 0s 2ms/step - loss: 7630.8462 - mean_squared_error: 7630.8462\n",
      "Epoch 6/10\n",
      "3/3 [==============================] - 0s 2ms/step - loss: 6423.6118 - mean_squared_error: 6423.6118\n",
      "Epoch 7/10\n",
      "3/3 [==============================] - 0s 2ms/step - loss: 4788.3306 - mean_squared_error: 4788.3306\n",
      "Epoch 8/10\n",
      "3/3 [==============================] - 0s 2ms/step - loss: 3206.3083 - mean_squared_error: 3206.3083\n",
      "Epoch 9/10\n",
      "3/3 [==============================] - 0s 2ms/step - loss: 1817.1058 - mean_squared_error: 1817.1058\n",
      "Epoch 10/10\n",
      "3/3 [==============================] - 0s 3ms/step - loss: 1103.8733 - mean_squared_error: 1103.8733\n",
      "INFO:tensorflow:Assets written to: .\\structured_data_regressor\\best_model\\assets\n"
     ]
    },
    {
     "data": {
      "text/plain": [
       "<keras.callbacks.History at 0x22e6006fd60>"
      ]
     },
     "execution_count": 8,
     "metadata": {},
     "output_type": "execute_result"
    }
   ],
   "source": [
    "regression_predictor = ak.StructuredDataRegressor(max_trials=max_trials_num, overwrite=True)\n",
    "regression_predictor.fit(\"datasets/regression_train.csv\", 'y', epochs=epochs_num)"
   ]
  },
  {
   "cell_type": "code",
   "execution_count": 9,
   "metadata": {},
   "outputs": [
    {
     "name": "stdout",
     "output_type": "stream",
     "text": [
      "1/1 [==============================] - 0s 96ms/step - loss: 1528.6635 - mean_squared_error: 1528.6635\n"
     ]
    },
    {
     "data": {
      "text/plain": [
       "[1528.6634521484375, 1528.6634521484375]"
      ]
     },
     "execution_count": 9,
     "metadata": {},
     "output_type": "execute_result"
    }
   ],
   "source": [
    "regression_predictor.evaluate(\"datasets/regression_test.csv\", 'y')"
   ]
  },
  {
   "cell_type": "code",
   "execution_count": 10,
   "metadata": {},
   "outputs": [
    {
     "name": "stdout",
     "output_type": "stream",
     "text": [
      "Trial 20 Complete [00h 00m 02s]\n",
      "val_accuracy: 0.328125\n",
      "\n",
      "Best val_accuracy So Far: 0.328125\n",
      "Total elapsed time: 00h 00m 47s\n",
      "INFO:tensorflow:Oracle triggered exit\n",
      "Epoch 1/10\n",
      "50/50 [==============================] - 0s 1ms/step - loss: 1.7074 - accuracy: 0.3050\n",
      "Epoch 2/10\n",
      "50/50 [==============================] - 0s 1ms/step - loss: 1.6145 - accuracy: 0.3562\n",
      "Epoch 3/10\n",
      "50/50 [==============================] - 0s 1ms/step - loss: 1.5998 - accuracy: 0.3487\n",
      "Epoch 4/10\n",
      "50/50 [==============================] - 0s 1ms/step - loss: 1.5944 - accuracy: 0.3494\n",
      "Epoch 5/10\n",
      "50/50 [==============================] - 0s 1ms/step - loss: 1.5907 - accuracy: 0.3494\n",
      "Epoch 6/10\n",
      "50/50 [==============================] - 0s 1ms/step - loss: 1.5877 - accuracy: 0.3494\n",
      "Epoch 7/10\n",
      "50/50 [==============================] - 0s 1ms/step - loss: 1.5856 - accuracy: 0.3494\n",
      "Epoch 8/10\n",
      "50/50 [==============================] - 0s 1ms/step - loss: 1.5842 - accuracy: 0.3494\n",
      "Epoch 9/10\n",
      "50/50 [==============================] - 0s 1ms/step - loss: 1.5832 - accuracy: 0.3494\n",
      "Epoch 10/10\n",
      "50/50 [==============================] - 0s 1ms/step - loss: 1.5824 - accuracy: 0.3494\n",
      "INFO:tensorflow:Assets written to: .\\structured_data_classifier\\best_model\\assets\n"
     ]
    },
    {
     "data": {
      "text/plain": [
       "<keras.callbacks.History at 0x22e6125f1f0>"
      ]
     },
     "execution_count": 10,
     "metadata": {},
     "output_type": "execute_result"
    }
   ],
   "source": [
    "emotion_predictor = ak.StructuredDataClassifier(max_trials=max_trials_num, overwrite=True)\n",
    "emotion_predictor.fit(\"datasets/emotion_train.csv\", 'label', epochs=epochs_num)"
   ]
  },
  {
   "cell_type": "code",
   "execution_count": 11,
   "metadata": {},
   "outputs": [
    {
     "ename": "KeyError",
     "evalue": "'y'",
     "output_type": "error",
     "traceback": [
      "\u001b[1;31m---------------------------------------------------------------------------\u001b[0m",
      "\u001b[1;31mKeyError\u001b[0m                                  Traceback (most recent call last)",
      "File \u001b[1;32mc:\\Users\\marin\\miniconda3\\envs\\automl\\lib\\site-packages\\pandas\\core\\indexes\\base.py:3802\u001b[0m, in \u001b[0;36mIndex.get_loc\u001b[1;34m(self, key, method, tolerance)\u001b[0m\n\u001b[0;32m   3801\u001b[0m \u001b[39mtry\u001b[39;00m:\n\u001b[1;32m-> 3802\u001b[0m     \u001b[39mreturn\u001b[39;00m \u001b[39mself\u001b[39;49m\u001b[39m.\u001b[39;49m_engine\u001b[39m.\u001b[39;49mget_loc(casted_key)\n\u001b[0;32m   3803\u001b[0m \u001b[39mexcept\u001b[39;00m \u001b[39mKeyError\u001b[39;00m \u001b[39mas\u001b[39;00m err:\n",
      "File \u001b[1;32mc:\\Users\\marin\\miniconda3\\envs\\automl\\lib\\site-packages\\pandas\\_libs\\index.pyx:138\u001b[0m, in \u001b[0;36mpandas._libs.index.IndexEngine.get_loc\u001b[1;34m()\u001b[0m\n",
      "File \u001b[1;32mc:\\Users\\marin\\miniconda3\\envs\\automl\\lib\\site-packages\\pandas\\_libs\\index.pyx:165\u001b[0m, in \u001b[0;36mpandas._libs.index.IndexEngine.get_loc\u001b[1;34m()\u001b[0m\n",
      "File \u001b[1;32mpandas\\_libs\\hashtable_class_helper.pxi:5745\u001b[0m, in \u001b[0;36mpandas._libs.hashtable.PyObjectHashTable.get_item\u001b[1;34m()\u001b[0m\n",
      "File \u001b[1;32mpandas\\_libs\\hashtable_class_helper.pxi:5753\u001b[0m, in \u001b[0;36mpandas._libs.hashtable.PyObjectHashTable.get_item\u001b[1;34m()\u001b[0m\n",
      "\u001b[1;31mKeyError\u001b[0m: 'y'",
      "\nThe above exception was the direct cause of the following exception:\n",
      "\u001b[1;31mKeyError\u001b[0m                                  Traceback (most recent call last)",
      "Cell \u001b[1;32mIn[11], line 1\u001b[0m\n\u001b[1;32m----> 1\u001b[0m emotion_predictor\u001b[39m.\u001b[39;49mevaluate(\u001b[39m\"\u001b[39;49m\u001b[39mdatasets/emotion_test.csv\u001b[39;49m\u001b[39m\"\u001b[39;49m, \u001b[39m'\u001b[39;49m\u001b[39my\u001b[39;49m\u001b[39m'\u001b[39;49m)\n",
      "File \u001b[1;32mc:\\Users\\marin\\miniconda3\\envs\\automl\\lib\\site-packages\\autokeras\\tasks\\structured_data.py:186\u001b[0m, in \u001b[0;36mBaseStructuredDataPipeline.evaluate\u001b[1;34m(self, x, y, **kwargs)\u001b[0m\n\u001b[0;32m    168\u001b[0m \u001b[39m\u001b[39m\u001b[39m\"\"\"Evaluate the best model for the given data.\u001b[39;00m\n\u001b[0;32m    169\u001b[0m \n\u001b[0;32m    170\u001b[0m \u001b[39m# Arguments\u001b[39;00m\n\u001b[1;32m   (...)\u001b[0m\n\u001b[0;32m    183\u001b[0m \u001b[39m    the scalar outputs.\u001b[39;00m\n\u001b[0;32m    184\u001b[0m \u001b[39m\"\"\"\u001b[39;00m\n\u001b[0;32m    185\u001b[0m \u001b[39mif\u001b[39;00m \u001b[39misinstance\u001b[39m(x, \u001b[39mstr\u001b[39m):\n\u001b[1;32m--> 186\u001b[0m     x, y \u001b[39m=\u001b[39m \u001b[39mself\u001b[39;49m\u001b[39m.\u001b[39;49m_read_from_csv(x, y)\n\u001b[0;32m    187\u001b[0m \u001b[39mreturn\u001b[39;00m \u001b[39msuper\u001b[39m()\u001b[39m.\u001b[39mevaluate(x\u001b[39m=\u001b[39mx, y\u001b[39m=\u001b[39my, \u001b[39m*\u001b[39m\u001b[39m*\u001b[39mkwargs)\n",
      "File \u001b[1;32mc:\\Users\\marin\\miniconda3\\envs\\automl\\lib\\site-packages\\autokeras\\tasks\\structured_data.py:43\u001b[0m, in \u001b[0;36mBaseStructuredDataPipeline._read_from_csv\u001b[1;34m(x, y)\u001b[0m\n\u001b[0;32m     40\u001b[0m \u001b[39m@staticmethod\u001b[39m\n\u001b[0;32m     41\u001b[0m \u001b[39mdef\u001b[39;00m \u001b[39m_read_from_csv\u001b[39m(x, y):\n\u001b[0;32m     42\u001b[0m     df \u001b[39m=\u001b[39m pd\u001b[39m.\u001b[39mread_csv(x)\n\u001b[1;32m---> 43\u001b[0m     target \u001b[39m=\u001b[39m df\u001b[39m.\u001b[39;49mpop(y)\u001b[39m.\u001b[39mto_numpy()\n\u001b[0;32m     44\u001b[0m     \u001b[39mreturn\u001b[39;00m df, target\n",
      "File \u001b[1;32mc:\\Users\\marin\\miniconda3\\envs\\automl\\lib\\site-packages\\pandas\\core\\frame.py:5685\u001b[0m, in \u001b[0;36mDataFrame.pop\u001b[1;34m(self, item)\u001b[0m\n\u001b[0;32m   5644\u001b[0m \u001b[39mdef\u001b[39;00m \u001b[39mpop\u001b[39m(\u001b[39mself\u001b[39m, item: Hashable) \u001b[39m-\u001b[39m\u001b[39m>\u001b[39m Series:\n\u001b[0;32m   5645\u001b[0m \u001b[39m    \u001b[39m\u001b[39m\"\"\"\u001b[39;00m\n\u001b[0;32m   5646\u001b[0m \u001b[39m    Return item and drop from frame. Raise KeyError if not found.\u001b[39;00m\n\u001b[0;32m   5647\u001b[0m \n\u001b[1;32m   (...)\u001b[0m\n\u001b[0;32m   5683\u001b[0m \u001b[39m    3  monkey        NaN\u001b[39;00m\n\u001b[0;32m   5684\u001b[0m \u001b[39m    \"\"\"\u001b[39;00m\n\u001b[1;32m-> 5685\u001b[0m     \u001b[39mreturn\u001b[39;00m \u001b[39msuper\u001b[39;49m()\u001b[39m.\u001b[39;49mpop(item\u001b[39m=\u001b[39;49mitem)\n",
      "File \u001b[1;32mc:\\Users\\marin\\miniconda3\\envs\\automl\\lib\\site-packages\\pandas\\core\\generic.py:923\u001b[0m, in \u001b[0;36mNDFrame.pop\u001b[1;34m(self, item)\u001b[0m\n\u001b[0;32m    922\u001b[0m \u001b[39mdef\u001b[39;00m \u001b[39mpop\u001b[39m(\u001b[39mself\u001b[39m, item: Hashable) \u001b[39m-\u001b[39m\u001b[39m>\u001b[39m Series \u001b[39m|\u001b[39m Any:\n\u001b[1;32m--> 923\u001b[0m     result \u001b[39m=\u001b[39m \u001b[39mself\u001b[39;49m[item]\n\u001b[0;32m    924\u001b[0m     \u001b[39mdel\u001b[39;00m \u001b[39mself\u001b[39m[item]\n\u001b[0;32m    926\u001b[0m     \u001b[39mreturn\u001b[39;00m result\n",
      "File \u001b[1;32mc:\\Users\\marin\\miniconda3\\envs\\automl\\lib\\site-packages\\pandas\\core\\frame.py:3807\u001b[0m, in \u001b[0;36mDataFrame.__getitem__\u001b[1;34m(self, key)\u001b[0m\n\u001b[0;32m   3805\u001b[0m \u001b[39mif\u001b[39;00m \u001b[39mself\u001b[39m\u001b[39m.\u001b[39mcolumns\u001b[39m.\u001b[39mnlevels \u001b[39m>\u001b[39m \u001b[39m1\u001b[39m:\n\u001b[0;32m   3806\u001b[0m     \u001b[39mreturn\u001b[39;00m \u001b[39mself\u001b[39m\u001b[39m.\u001b[39m_getitem_multilevel(key)\n\u001b[1;32m-> 3807\u001b[0m indexer \u001b[39m=\u001b[39m \u001b[39mself\u001b[39;49m\u001b[39m.\u001b[39;49mcolumns\u001b[39m.\u001b[39;49mget_loc(key)\n\u001b[0;32m   3808\u001b[0m \u001b[39mif\u001b[39;00m is_integer(indexer):\n\u001b[0;32m   3809\u001b[0m     indexer \u001b[39m=\u001b[39m [indexer]\n",
      "File \u001b[1;32mc:\\Users\\marin\\miniconda3\\envs\\automl\\lib\\site-packages\\pandas\\core\\indexes\\base.py:3804\u001b[0m, in \u001b[0;36mIndex.get_loc\u001b[1;34m(self, key, method, tolerance)\u001b[0m\n\u001b[0;32m   3802\u001b[0m     \u001b[39mreturn\u001b[39;00m \u001b[39mself\u001b[39m\u001b[39m.\u001b[39m_engine\u001b[39m.\u001b[39mget_loc(casted_key)\n\u001b[0;32m   3803\u001b[0m \u001b[39mexcept\u001b[39;00m \u001b[39mKeyError\u001b[39;00m \u001b[39mas\u001b[39;00m err:\n\u001b[1;32m-> 3804\u001b[0m     \u001b[39mraise\u001b[39;00m \u001b[39mKeyError\u001b[39;00m(key) \u001b[39mfrom\u001b[39;00m \u001b[39merr\u001b[39;00m\n\u001b[0;32m   3805\u001b[0m \u001b[39mexcept\u001b[39;00m \u001b[39mTypeError\u001b[39;00m:\n\u001b[0;32m   3806\u001b[0m     \u001b[39m# If we have a listlike key, _check_indexing_error will raise\u001b[39;00m\n\u001b[0;32m   3807\u001b[0m     \u001b[39m#  InvalidIndexError. Otherwise we fall through and re-raise\u001b[39;00m\n\u001b[0;32m   3808\u001b[0m     \u001b[39m#  the TypeError.\u001b[39;00m\n\u001b[0;32m   3809\u001b[0m     \u001b[39mself\u001b[39m\u001b[39m.\u001b[39m_check_indexing_error(key)\n",
      "\u001b[1;31mKeyError\u001b[0m: 'y'"
     ]
    }
   ],
   "source": [
    "emotion_predictor.evaluate(\"datasets/emotion_test.csv\", 'label')"
   ]
  }
 ],
 "metadata": {
  "kernelspec": {
   "display_name": "conda-env",
   "language": "python",
   "name": "python3"
  },
  "language_info": {
   "codemirror_mode": {
    "name": "ipython",
    "version": 3
   },
   "file_extension": ".py",
   "mimetype": "text/x-python",
   "name": "python",
   "nbconvert_exporter": "python",
   "pygments_lexer": "ipython3",
   "version": "3.9.16"
  },
  "orig_nbformat": 4
 },
 "nbformat": 4,
 "nbformat_minor": 2
}
