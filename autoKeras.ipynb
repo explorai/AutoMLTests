{
 "cells": [
  {
   "cell_type": "code",
   "execution_count": 1,
   "metadata": {},
   "outputs": [],
   "source": [
    "from _collections_abc import MutableMapping\n",
    "import autokeras as ak\n",
    "from utils import load\n",
    "\n",
    "epochs_num = 10\n",
    "max_trials_num = 20"
   ]
  },
  {
   "cell_type": "code",
   "execution_count": 2,
   "metadata": {},
   "outputs": [
    {
     "name": "stdout",
     "output_type": "stream",
     "text": [
      "Trial 20 Complete [00h 00m 02s]\n",
      "val_accuracy: 0.3125\n",
      "\n",
      "Best val_accuracy So Far: 1.0\n",
      "Total elapsed time: 00h 00m 36s\n",
      "INFO:tensorflow:Oracle triggered exit\n",
      "Epoch 1/10\n",
      "3/3 [==============================] - 0s 3ms/step - loss: 9.7819 - accuracy: 0.5125\n",
      "Epoch 2/10\n",
      "3/3 [==============================] - 0s 3ms/step - loss: 4.6245 - accuracy: 0.5750\n",
      "Epoch 3/10\n",
      "3/3 [==============================] - 0s 2ms/step - loss: 0.7563 - accuracy: 0.7000\n",
      "Epoch 4/10\n",
      "3/3 [==============================] - 0s 3ms/step - loss: 0.2663 - accuracy: 0.8625\n",
      "Epoch 5/10\n",
      "3/3 [==============================] - 0s 2ms/step - loss: 0.2286 - accuracy: 0.9000\n",
      "Epoch 6/10\n",
      "3/3 [==============================] - 0s 3ms/step - loss: 0.4249 - accuracy: 0.9000\n",
      "Epoch 7/10\n",
      "3/3 [==============================] - 0s 3ms/step - loss: 0.7816 - accuracy: 0.8375\n",
      "Epoch 8/10\n",
      "3/3 [==============================] - 0s 2ms/step - loss: 0.4082 - accuracy: 0.9375\n",
      "Epoch 9/10\n",
      "3/3 [==============================] - 0s 3ms/step - loss: 0.4719 - accuracy: 0.8750\n",
      "Epoch 10/10\n",
      "3/3 [==============================] - 0s 2ms/step - loss: 0.5798 - accuracy: 0.8875\n",
      "INFO:tensorflow:Assets written to: .\\structured_data_classifier\\best_model\\assets\n"
     ]
    },
    {
     "data": {
      "text/plain": [
       "<keras.callbacks.History at 0x22e5bb1cd90>"
      ]
     },
     "execution_count": 2,
     "metadata": {},
     "output_type": "execute_result"
    }
   ],
   "source": [
    "blobs_predictor = ak.StructuredDataClassifier(max_trials=max_trials_num, overwrite=True)\n",
    "blobs_predictor.fit(\"datasets/blobs_train.csv\", 'label', epochs=epochs_num)"
   ]
  },
  {
   "cell_type": "code",
   "execution_count": 3,
   "metadata": {},
   "outputs": [
    {
     "name": "stdout",
     "output_type": "stream",
     "text": [
      "1/1 [==============================] - 0s 149ms/step - loss: 0.0044 - accuracy: 1.0000\n"
     ]
    },
    {
     "data": {
      "text/plain": [
       "[0.004447792656719685, 1.0]"
      ]
     },
     "execution_count": 3,
     "metadata": {},
     "output_type": "execute_result"
    }
   ],
   "source": [
    "blobs_predictor.evaluate(\"datasets/blobs_test.csv\", 'label')"
   ]
  },
  {
   "cell_type": "code",
   "execution_count": 4,
   "metadata": {},
   "outputs": [
    {
     "name": "stdout",
     "output_type": "stream",
     "text": [
      "Trial 20 Complete [00h 00m 01s]\n",
      "val_accuracy: 0.6875\n",
      "\n",
      "Best val_accuracy So Far: 0.75\n",
      "Total elapsed time: 00h 00m 28s\n",
      "INFO:tensorflow:Oracle triggered exit\n",
      "Epoch 1/10\n",
      "3/3 [==============================] - 0s 2ms/step - loss: 0.7219 - accuracy: 0.4375\n",
      "Epoch 2/10\n",
      "3/3 [==============================] - 0s 2ms/step - loss: 0.7153 - accuracy: 0.4625\n",
      "Epoch 3/10\n",
      "3/3 [==============================] - 0s 2ms/step - loss: 0.7096 - accuracy: 0.4750\n",
      "Epoch 4/10\n",
      "3/3 [==============================] - 0s 2ms/step - loss: 0.7046 - accuracy: 0.4750\n",
      "Epoch 5/10\n",
      "3/3 [==============================] - 0s 1ms/step - loss: 0.7002 - accuracy: 0.4875\n",
      "Epoch 6/10\n",
      "3/3 [==============================] - 0s 2ms/step - loss: 0.6962 - accuracy: 0.4750\n",
      "Epoch 7/10\n",
      "3/3 [==============================] - 0s 2ms/step - loss: 0.6925 - accuracy: 0.4625\n",
      "Epoch 8/10\n",
      "3/3 [==============================] - 0s 2ms/step - loss: 0.6893 - accuracy: 0.5000\n",
      "Epoch 9/10\n",
      "3/3 [==============================] - 0s 2ms/step - loss: 0.6866 - accuracy: 0.5375\n",
      "Epoch 10/10\n",
      "3/3 [==============================] - 0s 2ms/step - loss: 0.6843 - accuracy: 0.5125\n",
      "INFO:tensorflow:Assets written to: .\\structured_data_classifier\\best_model\\assets\n"
     ]
    },
    {
     "data": {
      "text/plain": [
       "<keras.callbacks.History at 0x22e5ee2d8e0>"
      ]
     },
     "execution_count": 4,
     "metadata": {},
     "output_type": "execute_result"
    }
   ],
   "source": [
    "circles_predictor = ak.StructuredDataClassifier(max_trials=max_trials_num, overwrite=True)\n",
    "circles_predictor.fit(\"datasets/circles_train.csv\", 'label', epochs=epochs_num)"
   ]
  },
  {
   "cell_type": "code",
   "execution_count": 5,
   "metadata": {},
   "outputs": [
    {
     "name": "stdout",
     "output_type": "stream",
     "text": [
      "1/1 [==============================] - 0s 114ms/step - loss: 0.7356 - accuracy: 0.2500\n"
     ]
    },
    {
     "data": {
      "text/plain": [
       "[0.7355905771255493, 0.25]"
      ]
     },
     "execution_count": 5,
     "metadata": {},
     "output_type": "execute_result"
    }
   ],
   "source": [
    "circles_predictor.evaluate(\"datasets/circles_test.csv\", 'label')"
   ]
  },
  {
   "cell_type": "code",
   "execution_count": 6,
   "metadata": {},
   "outputs": [
    {
     "name": "stdout",
     "output_type": "stream",
     "text": [
      "Trial 20 Complete [00h 00m 02s]\n",
      "val_accuracy: 0.9375\n",
      "\n",
      "Best val_accuracy So Far: 0.9375\n",
      "Total elapsed time: 00h 00m 33s\n",
      "INFO:tensorflow:Oracle triggered exit\n",
      "Epoch 1/10\n",
      "3/3 [==============================] - 1s 2ms/step - loss: 0.7600 - accuracy: 0.5250\n",
      "Epoch 2/10\n",
      "3/3 [==============================] - 0s 1ms/step - loss: 0.6598 - accuracy: 0.6000\n",
      "Epoch 3/10\n",
      "3/3 [==============================] - 0s 2ms/step - loss: 0.5796 - accuracy: 0.6250\n",
      "Epoch 4/10\n",
      "3/3 [==============================] - 0s 2ms/step - loss: 0.5154 - accuracy: 0.7250\n",
      "Epoch 5/10\n",
      "3/3 [==============================] - 0s 2ms/step - loss: 0.4649 - accuracy: 0.9125\n",
      "Epoch 6/10\n",
      "3/3 [==============================] - 0s 2ms/step - loss: 0.4247 - accuracy: 0.9125\n",
      "Epoch 7/10\n",
      "3/3 [==============================] - 0s 2ms/step - loss: 0.3938 - accuracy: 0.9125\n",
      "Epoch 8/10\n",
      "3/3 [==============================] - 0s 1ms/step - loss: 0.3698 - accuracy: 0.9125\n",
      "Epoch 9/10\n",
      "3/3 [==============================] - 0s 2ms/step - loss: 0.3519 - accuracy: 0.9000\n",
      "Epoch 10/10\n",
      "3/3 [==============================] - 0s 3ms/step - loss: 0.3372 - accuracy: 0.9000\n",
      "INFO:tensorflow:Assets written to: .\\structured_data_classifier\\best_model\\assets\n"
     ]
    },
    {
     "data": {
      "text/plain": [
       "<keras.callbacks.History at 0x22e600a8b50>"
      ]
     },
     "execution_count": 6,
     "metadata": {},
     "output_type": "execute_result"
    }
   ],
   "source": [
    "moons_predictor = ak.StructuredDataClassifier(max_trials=max_trials_num, overwrite=True)\n",
    "moons_predictor.fit(\"datasets/moons_train.csv\", 'label', epochs=epochs_num)"
   ]
  },
  {
   "cell_type": "code",
   "execution_count": 7,
   "metadata": {},
   "outputs": [
    {
     "name": "stdout",
     "output_type": "stream",
     "text": [
      "1/1 [==============================] - 0s 135ms/step - loss: 0.6063 - accuracy: 0.7500\n"
     ]
    },
    {
     "data": {
      "text/plain": [
       "[0.6062942743301392, 0.75]"
      ]
     },
     "execution_count": 7,
     "metadata": {},
     "output_type": "execute_result"
    }
   ],
   "source": [
    "moons_predictor.evaluate(\"datasets/moons_test.csv\", 'label')"
   ]
  },
  {
   "cell_type": "code",
   "execution_count": 8,
   "metadata": {},
   "outputs": [
    {
     "name": "stdout",
     "output_type": "stream",
     "text": [
      "Trial 20 Complete [00h 00m 01s]\n",
      "val_loss: 3706.959228515625\n",
      "\n",
      "Best val_loss So Far: 3484.09814453125\n",
      "Total elapsed time: 00h 00m 28s\n",
      "INFO:tensorflow:Oracle triggered exit\n",
      "Epoch 1/10\n",
      "3/3 [==============================] - 0s 2ms/step - loss: 9187.9160 - mean_squared_error: 9187.9160\n",
      "Epoch 2/10\n",
      "3/3 [==============================] - 0s 2ms/step - loss: 9033.2129 - mean_squared_error: 9033.2129\n",
      "Epoch 3/10\n",
      "3/3 [==============================] - 0s 2ms/step - loss: 8807.4043 - mean_squared_error: 8807.4043\n",
      "Epoch 4/10\n",
      "3/3 [==============================] - 0s 2ms/step - loss: 8369.2090 - mean_squared_error: 8369.2090\n",
      "Epoch 5/10\n",
      "3/3 [==============================] - 0s 2ms/step - loss: 7630.8462 - mean_squared_error: 7630.8462\n",
      "Epoch 6/10\n",
      "3/3 [==============================] - 0s 2ms/step - loss: 6423.6118 - mean_squared_error: 6423.6118\n",
      "Epoch 7/10\n",
      "3/3 [==============================] - 0s 2ms/step - loss: 4788.3306 - mean_squared_error: 4788.3306\n",
      "Epoch 8/10\n",
      "3/3 [==============================] - 0s 2ms/step - loss: 3206.3083 - mean_squared_error: 3206.3083\n",
      "Epoch 9/10\n",
      "3/3 [==============================] - 0s 2ms/step - loss: 1817.1058 - mean_squared_error: 1817.1058\n",
      "Epoch 10/10\n",
      "3/3 [==============================] - 0s 3ms/step - loss: 1103.8733 - mean_squared_error: 1103.8733\n",
      "INFO:tensorflow:Assets written to: .\\structured_data_regressor\\best_model\\assets\n"
     ]
    },
    {
     "data": {
      "text/plain": [
       "<keras.callbacks.History at 0x22e6006fd60>"
      ]
     },
     "execution_count": 8,
     "metadata": {},
     "output_type": "execute_result"
    }
   ],
   "source": [
    "regression_predictor = ak.StructuredDataRegressor(max_trials=max_trials_num, overwrite=True)\n",
    "regression_predictor.fit(\"datasets/regression_train.csv\", 'y', epochs=epochs_num)"
   ]
  },
  {
   "cell_type": "code",
   "execution_count": 9,
   "metadata": {},
   "outputs": [
    {
     "name": "stdout",
     "output_type": "stream",
     "text": [
      "1/1 [==============================] - 0s 96ms/step - loss: 1528.6635 - mean_squared_error: 1528.6635\n"
     ]
    },
    {
     "data": {
      "text/plain": [
       "[1528.6634521484375, 1528.6634521484375]"
      ]
     },
     "execution_count": 9,
     "metadata": {},
     "output_type": "execute_result"
    }
   ],
   "source": [
    "regression_predictor.evaluate(\"datasets/regression_test.csv\", 'y')"
   ]
  },
  {
   "cell_type": "code",
   "execution_count": 10,
   "metadata": {},
   "outputs": [
    {
     "name": "stdout",
     "output_type": "stream",
     "text": [
      "Trial 20 Complete [00h 00m 02s]\n",
      "val_accuracy: 0.328125\n",
      "\n",
      "Best val_accuracy So Far: 0.328125\n",
      "Total elapsed time: 00h 00m 47s\n",
      "INFO:tensorflow:Oracle triggered exit\n",
      "Epoch 1/10\n",
      "50/50 [==============================] - 0s 1ms/step - loss: 1.7074 - accuracy: 0.3050\n",
      "Epoch 2/10\n",
      "50/50 [==============================] - 0s 1ms/step - loss: 1.6145 - accuracy: 0.3562\n",
      "Epoch 3/10\n",
      "50/50 [==============================] - 0s 1ms/step - loss: 1.5998 - accuracy: 0.3487\n",
      "Epoch 4/10\n",
      "50/50 [==============================] - 0s 1ms/step - loss: 1.5944 - accuracy: 0.3494\n",
      "Epoch 5/10\n",
      "50/50 [==============================] - 0s 1ms/step - loss: 1.5907 - accuracy: 0.3494\n",
      "Epoch 6/10\n",
      "50/50 [==============================] - 0s 1ms/step - loss: 1.5877 - accuracy: 0.3494\n",
      "Epoch 7/10\n",
      "50/50 [==============================] - 0s 1ms/step - loss: 1.5856 - accuracy: 0.3494\n",
      "Epoch 8/10\n",
      "50/50 [==============================] - 0s 1ms/step - loss: 1.5842 - accuracy: 0.3494\n",
      "Epoch 9/10\n",
      "50/50 [==============================] - 0s 1ms/step - loss: 1.5832 - accuracy: 0.3494\n",
      "Epoch 10/10\n",
      "50/50 [==============================] - 0s 1ms/step - loss: 1.5824 - accuracy: 0.3494\n",
      "INFO:tensorflow:Assets written to: .\\structured_data_classifier\\best_model\\assets\n"
     ]
    },
    {
     "data": {
      "text/plain": [
       "<keras.callbacks.History at 0x22e6125f1f0>"
      ]
     },
     "execution_count": 10,
     "metadata": {},
     "output_type": "execute_result"
    }
   ],
   "source": [
    "emotion_predictor = ak.StructuredDataClassifier(max_trials=max_trials_num, overwrite=True)\n",
    "emotion_predictor.fit(\"datasets/emotion_train.csv\", 'label', epochs=epochs_num)"
   ]
  },
  {
   "cell_type": "code",
   "execution_count": 12,
   "metadata": {},
   "outputs": [
    {
     "name": "stdout",
     "output_type": "stream",
     "text": [
      "13/13 [==============================] - 0s 917us/step - loss: 1.5805 - accuracy: 0.3625\n"
     ]
    },
    {
     "data": {
      "text/plain": [
       "[1.5805482864379883, 0.36250001192092896]"
      ]
     },
     "execution_count": 12,
     "metadata": {},
     "output_type": "execute_result"
    }
   ],
   "source": [
    "emotion_predictor.evaluate(\"datasets/emotion_test.csv\", 'label')"
   ]
  }
 ],
 "metadata": {
  "kernelspec": {
   "display_name": "conda-env",
   "language": "python",
   "name": "python3"
  },
  "language_info": {
   "codemirror_mode": {
    "name": "ipython",
    "version": 3
   },
   "file_extension": ".py",
   "mimetype": "text/x-python",
   "name": "python",
   "nbconvert_exporter": "python",
   "pygments_lexer": "ipython3",
   "version": "3.9.16"
  },
  "orig_nbformat": 4
 },
 "nbformat": 4,
 "nbformat_minor": 2
}
