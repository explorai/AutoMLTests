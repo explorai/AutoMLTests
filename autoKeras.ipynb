{
 "cells": [
  {
   "cell_type": "code",
   "execution_count": 34,
   "metadata": {},
   "outputs": [],
   "source": [
    "from _collections_abc import MutableMapping\n",
    "import autokeras as ak\n",
    "from utils import load\n",
    "\n",
    "epochs_num = 10\n",
    "max_trials_num = 20"
   ]
  },
  {
   "cell_type": "code",
   "execution_count": 35,
   "metadata": {},
   "outputs": [
    {
     "name": "stdout",
     "output_type": "stream",
     "text": [
      "Trial 20 Complete [00h 00m 02s]\n",
      "val_accuracy: 1.0\n",
      "\n",
      "Best val_accuracy So Far: 1.0\n",
      "Total elapsed time: 00h 00m 36s\n",
      "INFO:tensorflow:Oracle triggered exit\n",
      "Epoch 1/10\n",
      "3/3 [==============================] - 0s 2ms/step - loss: 1.8158 - accuracy: 0.2500\n",
      "Epoch 2/10\n",
      "3/3 [==============================] - 0s 1ms/step - loss: 1.6534 - accuracy: 0.5500\n",
      "Epoch 3/10\n",
      "3/3 [==============================] - 0s 2ms/step - loss: 0.4649 - accuracy: 0.7875\n",
      "Epoch 4/10\n",
      "3/3 [==============================] - 0s 2ms/step - loss: 0.3623 - accuracy: 0.8500\n",
      "Epoch 5/10\n",
      "3/3 [==============================] - 0s 1ms/step - loss: 0.2393 - accuracy: 0.8625\n",
      "Epoch 6/10\n",
      "3/3 [==============================] - 0s 1ms/step - loss: 0.0874 - accuracy: 0.9875\n",
      "Epoch 7/10\n",
      "3/3 [==============================] - 0s 2ms/step - loss: 0.0482 - accuracy: 0.9875\n",
      "Epoch 8/10\n",
      "3/3 [==============================] - 0s 2ms/step - loss: 0.0149 - accuracy: 1.0000\n",
      "Epoch 9/10\n",
      "3/3 [==============================] - 0s 1ms/step - loss: 0.0103 - accuracy: 1.0000\n",
      "Epoch 10/10\n",
      "3/3 [==============================] - 0s 2ms/step - loss: 0.0028 - accuracy: 1.0000\n",
      "INFO:tensorflow:Assets written to: .\\structured_data_classifier\\best_model\\assets\n"
     ]
    },
    {
     "data": {
      "text/plain": [
       "<keras.callbacks.History at 0x1d5dcc767c0>"
      ]
     },
     "execution_count": 35,
     "metadata": {},
     "output_type": "execute_result"
    }
   ],
   "source": [
    "blobs_predictor = ak.StructuredDataClassifier(max_trials=max_trials_num, overwrite=True)\n",
    "blobs_predictor.fit(\"datasets/blobs_train.csv\", 'label', epochs=epochs_num)"
   ]
  },
  {
   "cell_type": "code",
   "execution_count": 36,
   "metadata": {},
   "outputs": [
    {
     "name": "stdout",
     "output_type": "stream",
     "text": [
      "1/1 [==============================] - 0s 145ms/step - loss: 0.3886 - accuracy: 0.9500\n"
     ]
    },
    {
     "data": {
      "text/plain": [
       "[0.38858145475387573, 0.949999988079071]"
      ]
     },
     "execution_count": 36,
     "metadata": {},
     "output_type": "execute_result"
    }
   ],
   "source": [
    "blobs_predictor.evaluate(\"datasets/blobs_test.csv\", 'label')"
   ]
  },
  {
   "cell_type": "code",
   "execution_count": 43,
   "metadata": {},
   "outputs": [
    {
     "name": "stdout",
     "output_type": "stream",
     "text": [
      "Trial 20 Complete [00h 00m 01s]\n",
      "val_accuracy: 0.5625\n",
      "\n",
      "Best val_accuracy So Far: 0.75\n",
      "Total elapsed time: 00h 00m 28s\n",
      "INFO:tensorflow:Oracle triggered exit\n",
      "Epoch 1/10\n",
      "3/3 [==============================] - 0s 2ms/step - loss: 0.7098 - accuracy: 0.4875\n",
      "Epoch 2/10\n",
      "3/3 [==============================] - 0s 2ms/step - loss: 0.6908 - accuracy: 0.5125\n",
      "Epoch 3/10\n",
      "3/3 [==============================] - 0s 1ms/step - loss: 0.6995 - accuracy: 0.5000\n",
      "Epoch 4/10\n",
      "3/3 [==============================] - 0s 1ms/step - loss: 0.6910 - accuracy: 0.4875\n",
      "Epoch 5/10\n",
      "3/3 [==============================] - 0s 1ms/step - loss: 0.6927 - accuracy: 0.5000\n",
      "Epoch 6/10\n",
      "3/3 [==============================] - 0s 2ms/step - loss: 0.6941 - accuracy: 0.5125\n",
      "Epoch 7/10\n",
      "3/3 [==============================] - 0s 2ms/step - loss: 0.7010 - accuracy: 0.5000\n",
      "Epoch 8/10\n",
      "3/3 [==============================] - 0s 2ms/step - loss: 0.6803 - accuracy: 0.5875\n",
      "Epoch 9/10\n",
      "3/3 [==============================] - 0s 1ms/step - loss: 0.6938 - accuracy: 0.5375\n",
      "Epoch 10/10\n",
      "3/3 [==============================] - 0s 2ms/step - loss: 0.6861 - accuracy: 0.5375\n",
      "INFO:tensorflow:Assets written to: .\\structured_data_classifier\\best_model\\assets\n"
     ]
    },
    {
     "data": {
      "text/plain": [
       "<keras.callbacks.History at 0x1d5e02a04c0>"
      ]
     },
     "execution_count": 43,
     "metadata": {},
     "output_type": "execute_result"
    }
   ],
   "source": [
    "circles_predictor = ak.StructuredDataClassifier(max_trials=max_trials_num, overwrite=True)\n",
    "circles_predictor.fit(\"datasets/circles_train.csv\", 'label', epochs=epochs_num)"
   ]
  },
  {
   "cell_type": "code",
   "execution_count": 45,
   "metadata": {},
   "outputs": [
    {
     "name": "stdout",
     "output_type": "stream",
     "text": [
      "1/1 [==============================] - 0s 121ms/step - loss: 0.6947 - accuracy: 0.4000\n"
     ]
    },
    {
     "data": {
      "text/plain": [
       "[0.6946532130241394, 0.4000000059604645]"
      ]
     },
     "execution_count": 45,
     "metadata": {},
     "output_type": "execute_result"
    }
   ],
   "source": [
    "circles_predictor.evaluate(\"datasets/circles_test.csv\", 'label')"
   ]
  },
  {
   "cell_type": "code",
   "execution_count": 49,
   "metadata": {},
   "outputs": [
    {
     "name": "stdout",
     "output_type": "stream",
     "text": [
      "Trial 20 Complete [00h 00m 02s]\n",
      "val_accuracy: 1.0\n",
      "\n",
      "Best val_accuracy So Far: 1.0\n",
      "Total elapsed time: 00h 00m 29s\n",
      "INFO:tensorflow:Oracle triggered exit\n",
      "Epoch 1/10\n",
      "3/3 [==============================] - 0s 2ms/step - loss: 0.7287 - accuracy: 0.3625\n",
      "Epoch 2/10\n",
      "3/3 [==============================] - 0s 1ms/step - loss: 0.7064 - accuracy: 0.5125\n",
      "Epoch 3/10\n",
      "3/3 [==============================] - 0s 2ms/step - loss: 0.6855 - accuracy: 0.6375\n",
      "Epoch 4/10\n",
      "3/3 [==============================] - 0s 2ms/step - loss: 0.6657 - accuracy: 0.6875\n",
      "Epoch 5/10\n",
      "3/3 [==============================] - 0s 3ms/step - loss: 0.6468 - accuracy: 0.7250\n",
      "Epoch 6/10\n",
      "3/3 [==============================] - 0s 3ms/step - loss: 0.6285 - accuracy: 0.8125\n",
      "Epoch 7/10\n",
      "3/3 [==============================] - 0s 1ms/step - loss: 0.6107 - accuracy: 0.8500\n",
      "Epoch 8/10\n",
      "3/3 [==============================] - 0s 1ms/step - loss: 0.5933 - accuracy: 0.8375\n",
      "Epoch 9/10\n",
      "3/3 [==============================] - 0s 2ms/step - loss: 0.5760 - accuracy: 0.8375\n",
      "Epoch 10/10\n",
      "3/3 [==============================] - 0s 1ms/step - loss: 0.5589 - accuracy: 0.8375\n",
      "INFO:tensorflow:Assets written to: .\\structured_data_classifier\\best_model\\assets\n"
     ]
    },
    {
     "data": {
      "text/plain": [
       "<keras.callbacks.History at 0x1d5e27bae50>"
      ]
     },
     "execution_count": 49,
     "metadata": {},
     "output_type": "execute_result"
    }
   ],
   "source": [
    "moons_predictor = ak.StructuredDataClassifier(max_trials=max_trials_num, overwrite=True)\n",
    "moons_predictor.fit(\"datasets/moons_train.csv\", 'label', epochs=epochs_num)"
   ]
  },
  {
   "cell_type": "code",
   "execution_count": 52,
   "metadata": {},
   "outputs": [
    {
     "name": "stdout",
     "output_type": "stream",
     "text": [
      "1/1 [==============================] - 0s 113ms/step - loss: 0.5359 - accuracy: 0.9500\n"
     ]
    },
    {
     "data": {
      "text/plain": [
       "[0.5359045267105103, 0.949999988079071]"
      ]
     },
     "execution_count": 52,
     "metadata": {},
     "output_type": "execute_result"
    }
   ],
   "source": [
    "moons_predictor.evaluate(\"datasets/moons_test.csv\", 'label')"
   ]
  },
  {
   "cell_type": "code",
   "execution_count": 53,
   "metadata": {},
   "outputs": [
    {
     "name": "stdout",
     "output_type": "stream",
     "text": [
      "Trial 20 Complete [00h 00m 02s]\n",
      "val_loss: 789.6874389648438\n",
      "\n",
      "Best val_loss So Far: 424.26910400390625\n",
      "Total elapsed time: 00h 00m 31s\n",
      "INFO:tensorflow:Oracle triggered exit\n",
      "Epoch 1/10\n",
      "3/3 [==============================] - 0s 3ms/step - loss: 5530.8242 - mean_squared_error: 5530.8242\n",
      "Epoch 2/10\n",
      "3/3 [==============================] - 0s 2ms/step - loss: 2049.4824 - mean_squared_error: 2049.4824\n",
      "Epoch 3/10\n",
      "3/3 [==============================] - 0s 2ms/step - loss: 1617.4211 - mean_squared_error: 1617.4211\n",
      "Epoch 4/10\n",
      "3/3 [==============================] - 0s 3ms/step - loss: 1117.3044 - mean_squared_error: 1117.3044\n",
      "Epoch 5/10\n",
      "3/3 [==============================] - 0s 2ms/step - loss: 943.6968 - mean_squared_error: 943.6968\n",
      "Epoch 6/10\n",
      "3/3 [==============================] - 0s 3ms/step - loss: 727.2539 - mean_squared_error: 727.2539\n",
      "Epoch 7/10\n",
      "3/3 [==============================] - 0s 3ms/step - loss: 805.3490 - mean_squared_error: 805.3490\n",
      "Epoch 8/10\n",
      "3/3 [==============================] - 0s 2ms/step - loss: 814.5070 - mean_squared_error: 814.5070\n",
      "Epoch 9/10\n",
      "3/3 [==============================] - 0s 3ms/step - loss: 543.1223 - mean_squared_error: 543.1223\n",
      "Epoch 10/10\n",
      "3/3 [==============================] - 0s 2ms/step - loss: 594.4415 - mean_squared_error: 594.4415\n",
      "INFO:tensorflow:Assets written to: .\\structured_data_regressor\\best_model\\assets\n"
     ]
    },
    {
     "data": {
      "text/plain": [
       "<keras.callbacks.History at 0x1d5e138d0a0>"
      ]
     },
     "execution_count": 53,
     "metadata": {},
     "output_type": "execute_result"
    }
   ],
   "source": [
    "regression_predictor = ak.StructuredDataRegressor(max_trials=max_trials_num, overwrite=True)\n",
    "regression_predictor.fit(\"datasets/regression_train.csv\", 'y', epochs=epochs_num)"
   ]
  },
  {
   "cell_type": "code",
   "execution_count": 55,
   "metadata": {},
   "outputs": [
    {
     "name": "stdout",
     "output_type": "stream",
     "text": [
      "1/1 [==============================] - 0s 105ms/step - loss: 1007.7545 - mean_squared_error: 1007.7545\n"
     ]
    },
    {
     "data": {
      "text/plain": [
       "[1007.7545166015625, 1007.7545166015625]"
      ]
     },
     "execution_count": 55,
     "metadata": {},
     "output_type": "execute_result"
    }
   ],
   "source": [
    "regression_predictor.evaluate(\"datasets/regression_test.csv\", 'y')"
   ]
  }
 ],
 "metadata": {
  "kernelspec": {
   "display_name": "conda-env",
   "language": "python",
   "name": "python3"
  },
  "language_info": {
   "codemirror_mode": {
    "name": "ipython",
    "version": 3
   },
   "file_extension": ".py",
   "mimetype": "text/x-python",
   "name": "python",
   "nbconvert_exporter": "python",
   "pygments_lexer": "ipython3",
   "version": "3.9.16"
  },
  "orig_nbformat": 4
 },
 "nbformat": 4,
 "nbformat_minor": 2
}
